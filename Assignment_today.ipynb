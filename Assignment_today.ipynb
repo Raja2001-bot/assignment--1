{
 "cells": [
  {
   "cell_type": "code",
   "execution_count": null,
   "id": "e9f5bcee",
   "metadata": {},
   "outputs": [],
   "source": [
    "import requests\n",
    "base_url = 'https://restcountries.com/v3.1/all'\n",
    "resp = requests.get(base_url)\n",
    "data = resp.json()\n",
    "print(\"What's your name?\")\n",
    "user_name = input()\n",
    "print(\"Which country do you stay in?\")\n",
    "user_country= input()\n",
    "print(\"\\n\")\n",
    "for country in data:\n",
    "    if(country['name'].upper() == user_country):\n",
    "        print(\"Nice to meet you, (} 111\".format(user_name))\n",
    "        print(\"I really like your country (), especially your country's capital (}\".format(user_country, country['capital']))"
   ]
  },
  {
   "cell_type": "code",
   "execution_count": 7,
   "id": "cb29ac6d",
   "metadata": {},
   "outputs": [
    {
     "name": "stdout",
     "output_type": "stream",
     "text": [
      "9\n"
     ]
    }
   ],
   "source": [
    "f=open('raja_file.txt',mode='r')\n",
    "number_of_lines = 0\n",
    "for line in f:\n",
    "    number_of_lines+=1\n",
    "    line=line.strip(\"\\n\")\n",
    "    \n",
    "f.close()\n",
    "print(number_of_lines)"
   ]
  },
  {
   "cell_type": "code",
   "execution_count": null,
   "id": "8da5613d",
   "metadata": {},
   "outputs": [],
   "source": [
    "import shutil \n",
    "import os\n",
    "\n",
    "source_folder=\"C:/Users/Rajakumar/Desktop/CSV File/Files-main\"\n",
    "\n",
    "target_folder=\"C:/Users/Rajakumar/Desktop/CSV File/Files-main/target\"\n",
    "\n",
    "for dirs, subdirs, files in os.walk(source_folder):\n",
    "    for file in files:\n",
    "        if file.endswith(\".csv\"):\n",
    "            print(file)\n",
    "            filename = os.path.join(source_folder, dirs, file)\n",
    "            if os.path.exists(filename):\n",
    "                print(filename)\n",
    "                shutil.copy(filename, target_folder) \n",
    "print(len(os.listdir(target_folder)))"
   ]
  },
  {
   "cell_type": "code",
   "execution_count": 15,
   "id": "99d9bb9d",
   "metadata": {},
   "outputs": [
    {
     "name": "stdout",
     "output_type": "stream",
     "text": [
      "Data written to raja_data.xlsx successfully.\n"
     ]
    }
   ],
   "source": [
    "import pandas as pd\n",
    "\n",
    "def write_excel(data, excel_file_name):\n",
    "    try:\n",
    "        df = pd.DataFrame(data)\n",
    "        df.to_excel(excel_file_name, index=False)\n",
    "        print(f\"we have to Data written to {excel_file_name} successfully.\")\n",
    "    except Exception as e:\n",
    "        print(f\"Error: {e}\")\n",
    "\n",
    "data_list = [\n",
    "    {'Name': 'raja', 'Age': 22, 'City': 'Greater Noida'},\n",
    "    {'Name': 'Atul', 'Age': 22, 'City': 'Noida'},\n",
    "    {'Name': 'Boby', 'Age': 23, 'City': 'delhi'}\n",
    "]\n",
    "\n",
    "excel_file = \"raja_data.xlsx\"\n",
    "write_to_excel(data_list, excel_file)\n"
   ]
  },
  {
   "cell_type": "code",
   "execution_count": 20,
   "id": "4b2bfd1e",
   "metadata": {},
   "outputs": [
    {
     "name": "stdout",
     "output_type": "stream",
     "text": [
      "{'frout': 'apple', 'price': 100, 'City': 'jammu_kashmir'}\n"
     ]
    }
   ],
   "source": [
    "def create_a_dictionary(keys, values):\n",
    "    if len(keys) == len(values):\n",
    "        result_dict = dict(zip(keys, values))\n",
    "        return result_dict\n",
    "    else:\n",
    "        print(\"Error\")\n",
    "        return None\n",
    "keys_list = ['frout', 'price', 'City']\n",
    "values_list = ['apple', 100, 'jammu_kashmir']\n",
    "\n",
    "result_dict = create_dictionary(keys_list, values_list)\n",
    "\n",
    "if result_dict is not None:\n",
    "    print(result_dict)\n"
   ]
  },
  {
   "cell_type": "code",
   "execution_count": null,
   "id": "b642d7ef",
   "metadata": {},
   "outputs": [],
   "source": []
  },
  {
   "cell_type": "code",
   "execution_count": null,
   "id": "3f1433a4",
   "metadata": {},
   "outputs": [],
   "source": []
  },
  {
   "cell_type": "code",
   "execution_count": null,
   "id": "e1d698a6",
   "metadata": {},
   "outputs": [],
   "source": []
  }
 ],
 "metadata": {
  "kernelspec": {
   "display_name": "Python 3 (ipykernel)",
   "language": "python",
   "name": "python3"
  },
  "language_info": {
   "codemirror_mode": {
    "name": "ipython",
    "version": 3
   },
   "file_extension": ".py",
   "mimetype": "text/x-python",
   "name": "python",
   "nbconvert_exporter": "python",
   "pygments_lexer": "ipython3",
   "version": "3.11.5"
  }
 },
 "nbformat": 4,
 "nbformat_minor": 5
}
